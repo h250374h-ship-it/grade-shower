{
 "cells": [
  {
   "cell_type": "code",
   "execution_count": null,
   "id": "f274f949-0a25-440d-8f31-71949b037a8a",
   "metadata": {},
   "outputs": [],
   "source": [
    "def display_grades():\n",
    "    students = [\n",
    "        {\"name\": \"Alice Johnson\", \"grades\": {\"Math\": 92, \"Science\": 88, \"English\": 95, \"History\": 87}},\n",
    "        {\"name\": \"Bob Smith\", \"grades\": {\"Math\": 78, \"Science\": 82, \"English\": 85, \"History\": 80}},\n",
    "        {\"name\": \"Charlie Brown\", \"grades\": {\"Math\": 95, \"Science\": 91, \"English\": 89, \"History\": 93}},\n",
    "    ]\n",
    "    \n",
    "    print(\"=\" * 60)\n",
    "    print(f\"{'SCHOOL GRADES REPORT':^60}\")\n",
    "    print(\"=\" * 60)\n",
    "    \n",
    "    for student in students:\n",
    "        print(f\"\\nStudent: {student['name']}\")\n",
    "        print(\"-\" * 40)\n",
    "        print(f\"{'Subject':<15} {'Grade':<10} {'Letter':<10}\")\n",
    "        print(\"-\" * 40)\n",
    "        \n",
    "        total = 0\n",
    "        for subject, score in student[\"grades\"].items():\n",
    "            letter = calculate_letter_grade(score)\n",
    "            print(f\"{subject:<15} {score:<10} {letter:<10}\")\n",
    "            total += score\n",
    "        \n",
    "        average = total / len(student[\"grades\"])\n",
    "        avg_letter = calculate_letter_grade(average)\n",
    "        print(\"-\" * 40)\n",
    "        print(f\"{'AVERAGE':<15} {average:<10.1f} {avg_letter:<10}\")\n",
    "        print(\"=\" * 60)\n",
    "\n",
    "def calculate_letter_grade(score):\n",
    "    if score >= 90:\n",
    "        return \"A\"\n",
    "    elif score >= 80:\n",
    "        return \"B\"\n",
    "    elif score >= 70:\n",
    "        return \"C\"\n",
    "    elif score >= 60:\n",
    "        return \"D\"\n",
    "    else:\n",
    "        return \"F\"\n",
    "\n",
    "if __name__ == \"__main__\":\n",
    "    display_grades()"
   ]
  }
 ],
 "metadata": {
  "kernelspec": {
   "display_name": "Python [conda env:base] *",
   "language": "python",
   "name": "conda-base-py"
  },
  "language_info": {
   "codemirror_mode": {
    "name": "ipython",
    "version": 3
   },
   "file_extension": ".py",
   "mimetype": "text/x-python",
   "name": "python",
   "nbconvert_exporter": "python",
   "pygments_lexer": "ipython3",
   "version": "3.13.5"
  }
 },
 "nbformat": 4,
 "nbformat_minor": 5
}
